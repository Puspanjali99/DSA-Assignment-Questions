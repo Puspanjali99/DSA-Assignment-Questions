{
  "nbformat": 4,
  "nbformat_minor": 0,
  "metadata": {
    "colab": {
      "provenance": []
    },
    "kernelspec": {
      "name": "python3",
      "display_name": "Python 3"
    },
    "language_info": {
      "name": "python"
    }
  },
  "cells": [
    {
      "cell_type": "code",
      "execution_count": 1,
      "metadata": {
        "colab": {
          "base_uri": "https://localhost:8080/"
        },
        "id": "hK6c3aalwK6N",
        "outputId": "9d24c107-5997-4574-ba41-ad329d4f058f"
      },
      "outputs": [
        {
          "output_type": "stream",
          "name": "stdout",
          "text": [
            "45\n"
          ]
        }
      ],
      "source": [
        "print(45)"
      ]
    },
    {
      "cell_type": "markdown",
      "source": [
        "#Problem 1: Reverse a singly linked list.\n",
        "Input: 1 -> 2 -> 3 -> 4 -> 5\n",
        "\n",
        "Output: 5 -> 4 -> 3 -> 2 -> 1"
      ],
      "metadata": {
        "id": "VtEeOgaXwYAU"
      }
    },
    {
      "cell_type": "code",
      "source": [
        "class ListNode:\n",
        "    def __init__(self, value=0, next=None):\n",
        "        self.value = value\n",
        "        self.next = next\n",
        "\n",
        "def reverseLinkedList(head):\n",
        "    prev = None\n",
        "    current = head\n",
        "\n",
        "    while current:\n",
        "        next_node = current.next  # Store the next node\n",
        "        current.next = prev  # Reverse the current node's pointer\n",
        "        prev = current  # Move prev to the current node\n",
        "        current = next_node  # Move to the next node\n",
        "\n",
        "    return prev  # prev will be the new head at the end\n",
        "\n",
        "# Helper function to print the list\n",
        "def printLinkedList(head):\n",
        "    while head:\n",
        "        print(head.value, end=\" -> \" if head.next else \"\\n\")\n",
        "        head = head.next\n",
        "\n",
        "# Creating the linked list 1 -> 2 -> 3 -> 4 -> 5\n",
        "head = ListNode(1)\n",
        "head.next = ListNode(2)\n",
        "head.next.next = ListNode(3)\n",
        "head.next.next.next = ListNode(4)\n",
        "head.next.next.next.next = ListNode(5)\n",
        "\n",
        "print(\"Original List:\")\n",
        "printLinkedList(head)\n",
        "\n",
        "# Reversing the linked list\n",
        "reversed_head = reverseLinkedList(head)\n",
        "\n",
        "print(\"Reversed List:\")\n",
        "printLinkedList(reversed_head)\n"
      ],
      "metadata": {
        "colab": {
          "base_uri": "https://localhost:8080/"
        },
        "id": "8mZYhISYwNG6",
        "outputId": "73544f77-078b-4145-8910-6b0509bf5eed"
      },
      "execution_count": 2,
      "outputs": [
        {
          "output_type": "stream",
          "name": "stdout",
          "text": [
            "Original List:\n",
            "1 -> 2 -> 3 -> 4 -> 5\n",
            "Reversed List:\n",
            "5 -> 4 -> 3 -> 2 -> 1\n"
          ]
        }
      ]
    },
    {
      "cell_type": "markdown",
      "source": [
        "#Problem 2: Merge two sorted linked lists into one sorted linked list.\n",
        "Input: List 1: 1 -> 3 -> 5, List 2: 2 -> 4 -> 6\n",
        "\n",
        "Output: 1 -> 2 -> 3 -> 4 -> 5 -> 6"
      ],
      "metadata": {
        "id": "5SQHIKOFw3yb"
      }
    },
    {
      "cell_type": "code",
      "source": [
        "class ListNode:\n",
        "    def __init__(self, value=0, next=None):\n",
        "        self.value = value\n",
        "        self.next = next\n",
        "\n",
        "def mergeTwoLists(l1, l2):\n",
        "    # Initialize a dummy node to build the merged list\n",
        "    dummy = ListNode()\n",
        "    current = dummy\n",
        "\n",
        "    # Traverse both lists and append the smaller node\n",
        "    while l1 and l2:\n",
        "        if l1.value < l2.value:\n",
        "            current.next = l1\n",
        "            l1 = l1.next\n",
        "        else:\n",
        "            current.next = l2\n",
        "            l2 = l2.next\n",
        "        current = current.next\n",
        "\n",
        "    # If there are remaining nodes in either list, append them\n",
        "    if l1:\n",
        "        current.next = l1\n",
        "    if l2:\n",
        "        current.next = l2\n",
        "\n",
        "    # Return the merged list, skipping the dummy node\n",
        "    return dummy.next\n",
        "\n",
        "# Helper function to print the list\n",
        "def printLinkedList(head):\n",
        "    while head:\n",
        "        print(head.value, end=\" -> \" if head.next else \"\\n\")\n",
        "        head = head.next\n",
        "\n",
        "# Creating List 1: 1 -> 3 -> 5\n",
        "l1 = ListNode(1)\n",
        "l1.next = ListNode(3)\n",
        "l1.next.next = ListNode(5)\n",
        "\n",
        "# Creating List 2: 2 -> 4 -> 6\n",
        "l2 = ListNode(2)\n",
        "l2.next = ListNode(4)\n",
        "l2.next.next = ListNode(6)\n",
        "\n",
        "print(\"List 1:\")\n",
        "printLinkedList(l1)\n",
        "\n",
        "print(\"List 2:\")\n",
        "printLinkedList(l2)\n",
        "\n",
        "# Merging the two lists\n",
        "merged_head = mergeTwoLists(l1, l2)\n",
        "\n",
        "print(\"Merged List:\")\n",
        "printLinkedList(merged_head)\n"
      ],
      "metadata": {
        "colab": {
          "base_uri": "https://localhost:8080/"
        },
        "id": "tq7CG0qVwNKC",
        "outputId": "5e1186f0-71cb-46fc-89c0-7737d136ff25"
      },
      "execution_count": 3,
      "outputs": [
        {
          "output_type": "stream",
          "name": "stdout",
          "text": [
            "List 1:\n",
            "1 -> 3 -> 5\n",
            "List 2:\n",
            "2 -> 4 -> 6\n",
            "Merged List:\n",
            "1 -> 2 -> 3 -> 4 -> 5 -> 6\n"
          ]
        }
      ]
    },
    {
      "cell_type": "markdown",
      "source": [
        "#Problem 3: Remove the nth node from the end of a linked list.\n",
        "Input: 1 -> 2 -> 3 -> 4 -> 5, n = 2\n",
        "\n",
        "Output: 1 -> 2 -> 3 -> 5"
      ],
      "metadata": {
        "id": "dcEWj2f4xa-w"
      }
    },
    {
      "cell_type": "code",
      "source": [
        "class ListNode:\n",
        "    def __init__(self, value=0, next=None):\n",
        "        self.value = value\n",
        "        self.next = next\n",
        "\n",
        "def removeNthFromEnd(head, n):\n",
        "    # Initialize a dummy node that points to the head\n",
        "    dummy = ListNode(0)\n",
        "    dummy.next = head\n",
        "    first = dummy\n",
        "    second = dummy\n",
        "\n",
        "    # Move first pointer n+1 steps ahead\n",
        "    for _ in range(n + 1):\n",
        "        first = first.next\n",
        "\n",
        "    # Move both pointers until first reaches the end\n",
        "    while first:\n",
        "        first = first.next\n",
        "        second = second.next\n",
        "\n",
        "    # Remove the nth node from the end\n",
        "    second.next = second.next.next\n",
        "\n",
        "    # Return the head of the modified list\n",
        "    return dummy.next\n",
        "\n",
        "# Helper function to print the list\n",
        "def printLinkedList(head):\n",
        "    while head:\n",
        "        print(head.value, end=\" -> \" if head.next else \"\\n\")\n",
        "        head = head.next\n",
        "\n",
        "# Creating the linked list 1 -> 2 -> 3 -> 4 -> 5\n",
        "head = ListNode(1)\n",
        "head.next = ListNode(2)\n",
        "head.next.next = ListNode(3)\n",
        "head.next.next.next = ListNode(4)\n",
        "head.next.next.next.next = ListNode(5)\n",
        "\n",
        "print(\"Original List:\")\n",
        "printLinkedList(head)\n",
        "\n",
        "# Removing the 2nd node from the end (n = 2)\n",
        "n = 2\n",
        "new_head = removeNthFromEnd(head, n)\n",
        "\n",
        "print(\"List after removing the nth node from the end:\")\n",
        "printLinkedList(new_head)\n"
      ],
      "metadata": {
        "colab": {
          "base_uri": "https://localhost:8080/"
        },
        "id": "XaV1o1ijwNM2",
        "outputId": "eb91027f-5ef3-46fd-9343-947dd1e76545"
      },
      "execution_count": 4,
      "outputs": [
        {
          "output_type": "stream",
          "name": "stdout",
          "text": [
            "Original List:\n",
            "1 -> 2 -> 3 -> 4 -> 5\n",
            "List after removing the nth node from the end:\n",
            "1 -> 2 -> 3 -> 5\n"
          ]
        }
      ]
    },
    {
      "cell_type": "markdown",
      "source": [
        "#Problem 4: Find the intersection point of two linked lists.\n",
        "Input: List 1: 1 -> 2 -> 3 -> 4, List 2: 9 -> 8 -> 3 -> 4\n",
        "\n",
        "Output: Node with value 3"
      ],
      "metadata": {
        "id": "X4xtyYWax0YL"
      }
    },
    {
      "cell_type": "code",
      "source": [
        "class ListNode:\n",
        "    def __init__(self, value=0, next=None):\n",
        "        self.value = value\n",
        "        self.next = next\n",
        "\n",
        "def getIntersectionNode(headA, headB):\n",
        "    if not headA or not headB:\n",
        "        return None\n",
        "\n",
        "    # Initialize two pointers to the heads of both lists\n",
        "    ptr1, ptr2 = headA, headB\n",
        "\n",
        "    # Traverse the lists, switching heads when reaching the end of one list\n",
        "    while ptr1 != ptr2:\n",
        "        ptr1 = ptr1.next if ptr1 else headB\n",
        "        ptr2 = ptr2.next if ptr2 else headA\n",
        "\n",
        "    # Either both pointers will meet at the intersection point or at None\n",
        "    return ptr1\n",
        "\n",
        "# Helper function to print the list from a given node\n",
        "def printLinkedListFromNode(node):\n",
        "    while node:\n",
        "        print(node.value, end=\" -> \" if node.next else \"\\n\")\n",
        "        node = node.next\n",
        "\n",
        "# Creating the intersection part: 3 -> 4\n",
        "intersecting_node = ListNode(3)\n",
        "intersecting_node.next = ListNode(4)\n",
        "\n",
        "# Creating List 1: 1 -> 2 -> 3 -> 4\n",
        "list1 = ListNode(1)\n",
        "list1.next = ListNode(2)\n",
        "list1.next.next = intersecting_node\n",
        "\n",
        "# Creating List 2: 9 -> 8 -> 3 -> 4\n",
        "list2 = ListNode(9)\n",
        "list2.next = ListNode(8)\n",
        "list2.next.next = intersecting_node\n",
        "\n",
        "print(\"List 1:\")\n",
        "printLinkedListFromNode(list1)\n",
        "\n",
        "print(\"List 2:\")\n",
        "printLinkedListFromNode(list2)\n",
        "\n",
        "# Finding the intersection node\n",
        "intersection = getIntersectionNode(list1, list2)\n",
        "\n",
        "# Printing the intersection node\n",
        "if intersection:\n",
        "    print(f\"Intersection at node with value: {intersection.value}\")\n",
        "else:\n",
        "    print(\"No intersection found\")\n"
      ],
      "metadata": {
        "colab": {
          "base_uri": "https://localhost:8080/"
        },
        "id": "28Ndh4oIwNPt",
        "outputId": "0f388a04-f62a-497f-b381-7fe52cac2598"
      },
      "execution_count": 5,
      "outputs": [
        {
          "output_type": "stream",
          "name": "stdout",
          "text": [
            "List 1:\n",
            "1 -> 2 -> 3 -> 4\n",
            "List 2:\n",
            "9 -> 8 -> 3 -> 4\n",
            "Intersection at node with value: 3\n"
          ]
        }
      ]
    },
    {
      "cell_type": "markdown",
      "source": [
        "#Problem 5: Remove duplicates from a sorted linked list.\n",
        "Input: 1 -> 1 -> 2 -> 3 -> 3\n",
        "\n",
        "Output: 1 -> 2 -> 3"
      ],
      "metadata": {
        "id": "P32bmvBJyaGp"
      }
    },
    {
      "cell_type": "code",
      "source": [
        "class ListNode:\n",
        "    def __init__(self, value=0, next=None):\n",
        "        self.value = value\n",
        "        self.next = next\n",
        "\n",
        "def removeDuplicates(head):\n",
        "    current = head\n",
        "\n",
        "    # Traverse the list and remove duplicates\n",
        "    while current and current.next:\n",
        "        if current.value == current.next.value:\n",
        "            # Skip the duplicate node\n",
        "            current.next = current.next.next\n",
        "        else:\n",
        "            # Move to the next node if no duplicate\n",
        "            current = current.next\n",
        "\n",
        "    return head\n",
        "\n",
        "# Helper function to print the list\n",
        "def printLinkedList(head):\n",
        "    while head:\n",
        "        print(head.value, end=\" -> \" if head.next else \"\\n\")\n",
        "        head = head.next\n",
        "\n",
        "# Creating the linked list: 1 -> 1 -> 2 -> 3 -> 3\n",
        "head = ListNode(1)\n",
        "head.next = ListNode(1)\n",
        "head.next.next = ListNode(2)\n",
        "head.next.next.next = ListNode(3)\n",
        "head.next.next.next.next = ListNode(3)\n",
        "\n",
        "print(\"Original List:\")\n",
        "printLinkedList(head)\n",
        "\n",
        "# Removing duplicates\n",
        "new_head = removeDuplicates(head)\n",
        "\n",
        "print(\"List after removing duplicates:\")\n",
        "printLinkedList(new_head)\n"
      ],
      "metadata": {
        "colab": {
          "base_uri": "https://localhost:8080/"
        },
        "id": "WqfW9jfLwNSn",
        "outputId": "2a59616f-9a45-4c5c-fb07-66356c3eaf9f"
      },
      "execution_count": 6,
      "outputs": [
        {
          "output_type": "stream",
          "name": "stdout",
          "text": [
            "Original List:\n",
            "1 -> 1 -> 2 -> 3 -> 3\n",
            "List after removing duplicates:\n",
            "1 -> 2 -> 3\n"
          ]
        }
      ]
    },
    {
      "cell_type": "markdown",
      "source": [
        "#Problem 6: Add two numbers represented by linked lists (where each node contains a single digit).\n",
        "Input: List 1: 2 -> 4 -> 3, List 2: 5 -> 6 -> 4 (represents 342 + 465)\n",
        "\n",
        "Output: 7 -> 0 -> 8 (represents 807)"
      ],
      "metadata": {
        "id": "KOJsZ2jxy4hv"
      }
    },
    {
      "cell_type": "code",
      "source": [
        "class ListNode:\n",
        "    def __init__(self, value=0, next=None):\n",
        "        self.value = value\n",
        "        self.next = next\n",
        "\n",
        "def addTwoNumbers(l1, l2):\n",
        "    # Initialize dummy node and carry\n",
        "    dummy = ListNode()\n",
        "    current = dummy\n",
        "    carry = 0\n",
        "\n",
        "    # Traverse both lists\n",
        "    while l1 or l2 or carry:\n",
        "        # Get the values from the current nodes or use 0 if the node is None\n",
        "        val1 = l1.value if l1 else 0\n",
        "        val2 = l2.value if l2 else 0\n",
        "\n",
        "        # Calculate the sum of values and carry\n",
        "        total = val1 + val2 + carry\n",
        "        carry = total // 10\n",
        "        current.next = ListNode(total % 10)\n",
        "\n",
        "        # Move to the next node in the result list\n",
        "        current = current.next\n",
        "\n",
        "        # Move to the next nodes in the input lists\n",
        "        if l1:\n",
        "            l1 = l1.next\n",
        "        if l2:\n",
        "            l2 = l2.next\n",
        "\n",
        "    return dummy.next\n",
        "\n",
        "# Helper function to print the list\n",
        "def printLinkedList(head):\n",
        "    while head:\n",
        "        print(head.value, end=\" -> \" if head.next else \"\\n\")\n",
        "        head = head.next\n",
        "\n",
        "# Creating List 1: 2 -> 4 -> 3 (represents 342)\n",
        "l1 = ListNode(2)\n",
        "l1.next = ListNode(4)\n",
        "l1.next.next = ListNode(3)\n",
        "\n",
        "# Creating List 2: 5 -> 6 -> 4 (represents 465)\n",
        "l2 = ListNode(5)\n",
        "l2.next = ListNode(6)\n",
        "l2.next.next = ListNode(4)\n",
        "\n",
        "print(\"List 1:\")\n",
        "printLinkedList(l1)\n",
        "\n",
        "print(\"List 2:\")\n",
        "printLinkedList(l2)\n",
        "\n",
        "# Adding the two numbers\n",
        "result = addTwoNumbers(l1, l2)\n",
        "\n",
        "print(\"Result:\")\n",
        "printLinkedList(result)\n"
      ],
      "metadata": {
        "colab": {
          "base_uri": "https://localhost:8080/"
        },
        "id": "dIfwiXvuwNVP",
        "outputId": "8e357d47-e612-48b9-c5a6-41d343404131"
      },
      "execution_count": 7,
      "outputs": [
        {
          "output_type": "stream",
          "name": "stdout",
          "text": [
            "List 1:\n",
            "2 -> 4 -> 3\n",
            "List 2:\n",
            "5 -> 6 -> 4\n",
            "Result:\n",
            "7 -> 0 -> 8\n"
          ]
        }
      ]
    },
    {
      "cell_type": "markdown",
      "source": [
        "#Problem 7: Swap nodes in pairs in a linked list.\n",
        "Input: 1 -> 2 -> 3 -> 4\n",
        "\n",
        "Output: 2 -> 1 -> 4 -> 3"
      ],
      "metadata": {
        "id": "vyaNEETFzYl3"
      }
    },
    {
      "cell_type": "code",
      "source": [
        "class ListNode:\n",
        "    def __init__(self, value=0, next=None):\n",
        "        self.value = value\n",
        "        self.next = next\n",
        "\n",
        "def swapPairs(head):\n",
        "    # Create a dummy node and point it to the head\n",
        "    dummy = ListNode(0)\n",
        "    dummy.next = head\n",
        "    prev = dummy\n",
        "\n",
        "    while head and head.next:\n",
        "        # Nodes to be swapped\n",
        "        first = head\n",
        "        second = head.next\n",
        "\n",
        "        # Swapping\n",
        "        prev.next = second\n",
        "        first.next = second.next\n",
        "        second.next = first\n",
        "\n",
        "        # Move pointers\n",
        "        prev = first\n",
        "        head = first.next\n",
        "\n",
        "    return dummy.next\n",
        "\n",
        "# Helper function to print the list\n",
        "def printLinkedList(head):\n",
        "    while head:\n",
        "        print(head.value, end=\" -> \" if head.next else \"\\n\")\n",
        "        head = head.next\n",
        "\n",
        "# Creating the linked list: 1 -> 2 -> 3 -> 4\n",
        "head = ListNode(1)\n",
        "head.next = ListNode(2)\n",
        "head.next.next = ListNode(3)\n",
        "head.next.next.next = ListNode(4)\n",
        "\n",
        "print(\"Original List:\")\n",
        "printLinkedList(head)\n",
        "\n",
        "# Swapping nodes in pairs\n",
        "swapped_head = swapPairs(head)\n",
        "\n",
        "print(\"List after swapping nodes in pairs:\")\n",
        "printLinkedList(swapped_head)\n"
      ],
      "metadata": {
        "colab": {
          "base_uri": "https://localhost:8080/"
        },
        "id": "KPUk5EQMzZGP",
        "outputId": "945616d2-1e6f-46fd-fb05-70eb9e34e126"
      },
      "execution_count": 8,
      "outputs": [
        {
          "output_type": "stream",
          "name": "stdout",
          "text": [
            "Original List:\n",
            "1 -> 2 -> 3 -> 4\n",
            "List after swapping nodes in pairs:\n",
            "2 -> 1 -> 4 -> 3\n"
          ]
        }
      ]
    },
    {
      "cell_type": "markdown",
      "source": [
        "#Problem 8: Reverse nodes in a linked list in groups of k.\n",
        "Input: 1 -> 2 -> 3 -> 4 -> 5, k = 3\n",
        "\n",
        "Output: 3 -> 2 -> 1 -> 4 -> 5"
      ],
      "metadata": {
        "id": "-jITTvoIzxhY"
      }
    },
    {
      "cell_type": "code",
      "source": [
        "class ListNode:\n",
        "    def __init__(self, value=0, next=None):\n",
        "        self.value = value\n",
        "        self.next = next\n",
        "\n",
        "def reverseKGroup(head, k):\n",
        "    # Function to reverse a segment of k nodes\n",
        "    def reverse_segment(start, k):\n",
        "        prev = None\n",
        "        curr = start\n",
        "        while k:\n",
        "            next_node = curr.next\n",
        "            curr.next = prev\n",
        "            prev = curr\n",
        "            curr = next_node\n",
        "            k -= 1\n",
        "        return prev\n",
        "\n",
        "    # Function to count nodes in the list\n",
        "    def count_nodes(node):\n",
        "        count = 0\n",
        "        while node:\n",
        "            count += 1\n",
        "            node = node.next\n",
        "        return count\n",
        "\n",
        "    # Initialize dummy node and pointers\n",
        "    dummy = ListNode(0)\n",
        "    dummy.next = head\n",
        "    prev_end = dummy\n",
        "\n",
        "    # Count total nodes in the list\n",
        "    total_nodes = count_nodes(head)\n",
        "\n",
        "    # Iterate and reverse segments of k nodes\n",
        "    while total_nodes >= k:\n",
        "        start = prev_end.next\n",
        "        end = start\n",
        "        for _ in range(k - 1):\n",
        "            end = end.next\n",
        "        next_segment = end.next\n",
        "        end.next = None\n",
        "        reversed_head = reverse_segment(start, k)\n",
        "        prev_end.next = reversed_head\n",
        "        start.next = next_segment\n",
        "        prev_end = start\n",
        "        total_nodes -= k\n",
        "\n",
        "    return dummy.next\n",
        "\n",
        "# Helper function to print the list\n",
        "def printLinkedList(head):\n",
        "    while head:\n",
        "        print(head.value, end=\" -> \" if head.next else \"\\n\")\n",
        "        head = head.next\n",
        "\n",
        "# Creating the linked list: 1 -> 2 -> 3 -> 4 -> 5\n",
        "head = ListNode(1)\n",
        "head.next = ListNode(2)\n",
        "head.next.next = ListNode(3)\n",
        "head.next.next.next = ListNode(4)\n",
        "head.next.next.next.next = ListNode(5)\n",
        "\n",
        "print(\"Original List:\")\n",
        "printLinkedList(head)\n",
        "\n",
        "# Reversing nodes in groups of k\n",
        "k = 3\n",
        "reversed_head = reverseKGroup(head, k)\n",
        "\n",
        "print(\"List after reversing in groups of k:\")\n",
        "printLinkedList(reversed_head)\n"
      ],
      "metadata": {
        "colab": {
          "base_uri": "https://localhost:8080/"
        },
        "id": "bTnHV_5nzZJF",
        "outputId": "d9401160-6eee-438f-c1cd-b277cbdaf16a"
      },
      "execution_count": 9,
      "outputs": [
        {
          "output_type": "stream",
          "name": "stdout",
          "text": [
            "Original List:\n",
            "1 -> 2 -> 3 -> 4 -> 5\n",
            "List after reversing in groups of k:\n",
            "3 -> 2 -> 1 -> 4 -> 5\n"
          ]
        }
      ]
    },
    {
      "cell_type": "markdown",
      "source": [
        "#Problem 9: Determine if a linked list is a palindrome.\n",
        "Input: 1 -> 2 -> 2 -> 1\n",
        "\n",
        "Output: True"
      ],
      "metadata": {
        "id": "stiQQj_G0NnY"
      }
    },
    {
      "cell_type": "code",
      "source": [
        "class ListNode:\n",
        "    def __init__(self, value=0, next=None):\n",
        "        self.value = value\n",
        "        self.next = next\n",
        "\n",
        "def isPalindrome(head):\n",
        "    def reverse_list(node):\n",
        "        prev = None\n",
        "        while node:\n",
        "            next_node = node.next\n",
        "            node.next = prev\n",
        "            prev = node\n",
        "            node = next_node\n",
        "        return prev\n",
        "\n",
        "    def find_middle(node):\n",
        "        slow = fast = node\n",
        "        while fast and fast.next:\n",
        "            slow = slow.next\n",
        "            fast = fast.next.next\n",
        "        return slow\n",
        "\n",
        "    if not head or not head.next:\n",
        "        return True\n",
        "\n",
        "    # Step 1: Find the middle of the linked list\n",
        "    middle = find_middle(head)\n",
        "\n",
        "    # Step 2: Reverse the second half of the list\n",
        "    second_half_start = reverse_list(middle)\n",
        "\n",
        "    # Step 3: Compare the first and second halves\n",
        "    first_half = head\n",
        "    second_half = second_half_start\n",
        "    while second_half:\n",
        "        if first_half.value != second_half.value:\n",
        "            return False\n",
        "        first_half = first_half.next\n",
        "        second_half = second_half.next\n",
        "\n",
        "    # Optional: Restore the list (reverse second half back)\n",
        "    reverse_list(second_half_start)\n",
        "\n",
        "    return True\n",
        "\n",
        "# Helper function to print the list\n",
        "def printLinkedList(head):\n",
        "    while head:\n",
        "        print(head.value, end=\" -> \" if head.next else \"\\n\")\n",
        "        head = head.next\n",
        "\n",
        "# Creating the linked list: 1 -> 2 -> 2 -> 1\n",
        "head = ListNode(1)\n",
        "head.next = ListNode(2)\n",
        "head.next.next = ListNode(2)\n",
        "head.next.next.next = ListNode(1)\n",
        "\n",
        "print(\"Linked List:\")\n",
        "printLinkedList(head)\n",
        "\n",
        "# Checking if the list is a palindrome\n",
        "result = isPalindrome(head)\n",
        "print(\"Is the list a palindrome?\", result)\n"
      ],
      "metadata": {
        "colab": {
          "base_uri": "https://localhost:8080/"
        },
        "id": "arGF3_BvzZL-",
        "outputId": "3bfbc9d6-084d-467a-e1d5-3f55c3726387"
      },
      "execution_count": 10,
      "outputs": [
        {
          "output_type": "stream",
          "name": "stdout",
          "text": [
            "Linked List:\n",
            "1 -> 2 -> 2 -> 1\n",
            "Is the list a palindrome? True\n"
          ]
        }
      ]
    },
    {
      "cell_type": "markdown",
      "source": [
        "#Problem 10: Rotate a linked list to the right by k places.\n",
        "Input: 1 -> 2 -> 3 -> 4 -> 5, k = 2\n",
        "\n",
        "Output: 4 -> 5 -> 1 -> 2 -> 3\n"
      ],
      "metadata": {
        "id": "t3U277AN1Rx3"
      }
    },
    {
      "cell_type": "code",
      "source": [
        "class ListNode:\n",
        "    def __init__(self, value=0, next=None):\n",
        "        self.value = value\n",
        "        self.next = next\n",
        "\n",
        "def rotateRight(head, k):\n",
        "    if not head or k == 0:\n",
        "        return head\n",
        "\n",
        "    # Step 1: Find the length of the list and the tail node\n",
        "    length = 1\n",
        "    tail = head\n",
        "    while tail.next:\n",
        "        tail = tail.next\n",
        "        length += 1\n",
        "\n",
        "    # Step 2: Normalize k\n",
        "    k = k % length\n",
        "    if k == 0:\n",
        "        return head\n",
        "\n",
        "    # Step 3: Find the new tail and head\n",
        "    steps_to_new_head = length - k\n",
        "    new_tail = head\n",
        "    for _ in range(steps_to_new_head - 1):\n",
        "        new_tail = new_tail.next\n",
        "\n",
        "    new_head = new_tail.next\n",
        "    new_tail.next = None\n",
        "    tail.next = head\n",
        "\n",
        "    return new_head\n",
        "\n",
        "# Helper function to print the list\n",
        "def printLinkedList(head):\n",
        "    while head:\n",
        "        print(head.value, end=\" -> \" if head.next else \"\\n\")\n",
        "        head = head.next\n",
        "\n",
        "# Creating the linked list: 1 -> 2 -> 3 -> 4 -> 5\n",
        "head = ListNode(1)\n",
        "head.next = ListNode(2)\n",
        "head.next.next = ListNode(3)\n",
        "head.next.next.next = ListNode(4)\n",
        "head.next.next.next.next = ListNode(5)\n",
        "\n",
        "print(\"Original List:\")\n",
        "printLinkedList(head)\n",
        "\n",
        "# Rotating the list to the right by k = 2\n",
        "k = 2\n",
        "rotated_head = rotateRight(head, k)\n",
        "\n",
        "print(\"List after rotating right by k places:\")\n",
        "printLinkedList(rotated_head)\n"
      ],
      "metadata": {
        "colab": {
          "base_uri": "https://localhost:8080/"
        },
        "id": "en1M-9WMzZPE",
        "outputId": "dbb3fe56-b720-496a-deca-ea9e3da9e372"
      },
      "execution_count": 11,
      "outputs": [
        {
          "output_type": "stream",
          "name": "stdout",
          "text": [
            "Original List:\n",
            "1 -> 2 -> 3 -> 4 -> 5\n",
            "List after rotating right by k places:\n",
            "4 -> 5 -> 1 -> 2 -> 3\n"
          ]
        }
      ]
    },
    {
      "cell_type": "markdown",
      "source": [
        "#Problem 11: Flatten a multilevel doubly linked list.\n",
        "Input: 1 <-> 2 <-> 3 <-> 7 <-> 8 <-> 11 -> 12, 4 <-> 5 -> 9 -> 10, 6 -> 13\n",
        "\n",
        "Output: 1 <-> 2 <-> 3 <-> 4 <-> 5 <-> 6 <-> 7 <-> 8 <-> 9 <-> 10 <-> 11 <-> 12 <-> 13"
      ],
      "metadata": {
        "id": "c-cc0Ano2Rqc"
      }
    },
    {
      "cell_type": "code",
      "source": [
        "class ListNode:\n",
        "    def __init__(self, value=0, next=None, prev=None, child=None):\n",
        "        self.value = value\n",
        "        self.next = next\n",
        "        self.prev = prev\n",
        "        self.child = child\n",
        "\n",
        "def flatten(head):\n",
        "    def flatten_rec(node):\n",
        "        if not node:\n",
        "            return None\n",
        "\n",
        "        current = node\n",
        "        last = None\n",
        "\n",
        "        while current:\n",
        "            if current.child:\n",
        "                # Flatten the child list\n",
        "                child_tail = flatten_rec(current.child)\n",
        "\n",
        "                # Connect current node to child list\n",
        "                next_node = current.next\n",
        "                current.next = current.child\n",
        "                current.child.prev = current\n",
        "                current.child = None\n",
        "\n",
        "                # Connect child list to the next node\n",
        "                if child_tail:\n",
        "                    child_tail.next = next_node\n",
        "                if next_node:\n",
        "                    next_node.prev = child_tail\n",
        "\n",
        "                # Update last node\n",
        "                last = child_tail if child_tail else current\n",
        "            else:\n",
        "                last = current\n",
        "\n",
        "            current = current.next\n",
        "\n",
        "        return last\n",
        "\n",
        "    flatten_rec(head)\n",
        "    return head\n",
        "\n",
        "# Helper function to print the list\n",
        "def printDoublyLinkedList(head):\n",
        "    while head:\n",
        "        print(head.value, end=\" <-> \" if head.next else \"\\n\")\n",
        "        head = head.next\n",
        "\n",
        "# Creating the multilevel doubly linked list:\n",
        "# 1 <-> 2 <-> 3 <-> 7 <-> 8 <-> 11 -> 12\n",
        "#            |       |\n",
        "#            4 <-> 5 -> 9 -> 10\n",
        "#            |\n",
        "#            6 -> 13\n",
        "\n",
        "# Nodes for the first level\n",
        "node1 = ListNode(1)\n",
        "node2 = ListNode(2)\n",
        "node3 = ListNode(3)\n",
        "node7 = ListNode(7)\n",
        "node8 = ListNode(8)\n",
        "node11 = ListNode(11)\n",
        "node12 = ListNode(12)\n",
        "\n",
        "# Connecting the first level nodes\n",
        "node1.next = node2\n",
        "node2.prev = node1\n",
        "node2.next = node3\n",
        "node3.prev = node2\n",
        "node3.next = node7\n",
        "node7.prev = node3\n",
        "node7.next = node8\n",
        "node8.prev = node7\n",
        "node8.next = node11\n",
        "node11.prev = node8\n",
        "node11.next = node12\n",
        "node12.prev = node11\n",
        "\n",
        "# Nodes for the second level\n",
        "node4 = ListNode(4)\n",
        "node5 = ListNode(5)\n",
        "node9 = ListNode(9)\n",
        "node10 = ListNode(10)\n",
        "\n",
        "# Connecting the second level nodes\n",
        "node4.next = node5\n",
        "node5.prev = node4\n",
        "node5.next = node9\n",
        "node9.prev = node5\n",
        "node9.next = node10\n",
        "node10.prev = node9\n",
        "\n",
        "# Nodes for the third level\n",
        "node6 = ListNode(6)\n",
        "node13 = ListNode(13)\n",
        "\n",
        "# Connecting the third level nodes\n",
        "node6.next = node13\n",
        "node13.prev = node6\n",
        "\n",
        "# Setting child pointers\n",
        "node3.child = node4\n",
        "node7.child = node6\n",
        "\n",
        "# Flattening the list\n",
        "flattened_head = flatten(node1)\n",
        "\n",
        "print(\"Flattened List:\")\n",
        "printDoublyLinkedList(flattened_head)\n"
      ],
      "metadata": {
        "colab": {
          "base_uri": "https://localhost:8080/"
        },
        "id": "U053lHsO2ODk",
        "outputId": "94358f87-ef8a-4528-8dd2-90bcf5cee688"
      },
      "execution_count": 12,
      "outputs": [
        {
          "output_type": "stream",
          "name": "stdout",
          "text": [
            "Flattened List:\n",
            "1 <-> 2 <-> 3 <-> 4 <-> 5 <-> 9 <-> 10 <-> 7 <-> 6 <-> 13 <-> 8 <-> 11 <-> 12\n"
          ]
        }
      ]
    },
    {
      "cell_type": "markdown",
      "source": [
        "#Problem 12: Rearrange a linked list such that all even positioned nodes are placed at the end.\n",
        "\n",
        "Input: 1 -> 2 -> 3 -> 4 -> 5\n",
        "\n",
        "Output: 1 -> 3 -> 5 -> 2 -> 4"
      ],
      "metadata": {
        "id": "8RIsq8IM2lyE"
      }
    },
    {
      "cell_type": "code",
      "source": [
        "class ListNode:\n",
        "    def __init__(self, value=0, next=None):\n",
        "        self.value = value\n",
        "        self.next = next\n",
        "\n",
        "def rearrangeList(head):\n",
        "    if not head or not head.next:\n",
        "        return head\n",
        "\n",
        "    odd_head = odd = ListNode(0)  # Dummy head for odd positioned nodes\n",
        "    even_head = even = ListNode(0)  # Dummy head for even positioned nodes\n",
        "    is_odd = True\n",
        "\n",
        "    while head:\n",
        "        if is_odd:\n",
        "            odd.next = head\n",
        "            odd = odd.next\n",
        "        else:\n",
        "            even.next = head\n",
        "            even = even.next\n",
        "        head = head.next\n",
        "        is_odd = not is_odd\n",
        "\n",
        "    even.next = None  # End the even list\n",
        "    odd.next = even_head.next  # Append even list to the end of the odd list\n",
        "\n",
        "    return odd_head.next\n",
        "\n",
        "# Helper function to print the list\n",
        "def printLinkedList(head):\n",
        "    while head:\n",
        "        print(head.value, end=\" -> \" if head.next else \"\\n\")\n",
        "        head = head.next\n",
        "\n",
        "# Creating the linked list: 1 -> 2 -> 3 -> 4 -> 5\n",
        "head = ListNode(1)\n",
        "head.next = ListNode(2)\n",
        "head.next.next = ListNode(3)\n",
        "head.next.next.next = ListNode(4)\n",
        "head.next.next.next.next = ListNode(5)\n",
        "\n",
        "print(\"Original List:\")\n",
        "printLinkedList(head)\n",
        "\n",
        "# Rearranging the list\n",
        "rearranged_head = rearrangeList(head)\n",
        "\n",
        "print(\"List after rearranging:\")\n",
        "printLinkedList(rearranged_head)\n"
      ],
      "metadata": {
        "colab": {
          "base_uri": "https://localhost:8080/"
        },
        "id": "DMb8MGb3zZSE",
        "outputId": "a1b8dd7d-fcb5-48d2-8c2c-278e230304f6"
      },
      "execution_count": 13,
      "outputs": [
        {
          "output_type": "stream",
          "name": "stdout",
          "text": [
            "Original List:\n",
            "1 -> 2 -> 3 -> 4 -> 5\n",
            "List after rearranging:\n",
            "1 -> 3 -> 5 -> 2 -> 4\n"
          ]
        }
      ]
    },
    {
      "cell_type": "markdown",
      "source": [
        "#Problem 13: Given a non-negative number represented as a linked list, add one to it.\n",
        "Input: 1 -> 2 -> 3 (represents the number 123)\n",
        "\n",
        "Output: 1 -> 2 -> 4 (represents the number 124)"
      ],
      "metadata": {
        "id": "_HpanQVV26RU"
      }
    },
    {
      "cell_type": "code",
      "source": [
        "class ListNode:\n",
        "    def __init__(self, value=0, next=None):\n",
        "        self.value = value\n",
        "        self.next = next\n",
        "\n",
        "def reverseList(head):\n",
        "    prev = None\n",
        "    current = head\n",
        "    while current:\n",
        "        next_node = current.next\n",
        "        current.next = prev\n",
        "        prev = current\n",
        "        current = next_node\n",
        "    return prev\n",
        "\n",
        "def addOne(head):\n",
        "    # Reverse the list to process addition from the least significant digit\n",
        "    head = reverseList(head)\n",
        "\n",
        "    # Add one to the reversed list\n",
        "    current = head\n",
        "    carry = 1\n",
        "    while current and carry:\n",
        "        current.value += carry\n",
        "        carry = current.value // 10\n",
        "        current.value %= 10\n",
        "        if current.next is None and carry:\n",
        "            current.next = ListNode(carry)\n",
        "            carry = 0\n",
        "        current = current.next\n",
        "\n",
        "    # Reverse the list back to the original order\n",
        "    return reverseList(head)\n",
        "\n",
        "# Helper function to print the list\n",
        "def printLinkedList(head):\n",
        "    while head:\n",
        "        print(head.value, end=\" -> \" if head.next else \"\\n\")\n",
        "        head = head.next\n",
        "\n",
        "# Creating the linked list: 1 -> 2 -> 3 (represents the number 123)\n",
        "head = ListNode(1)\n",
        "head.next = ListNode(2)\n",
        "head.next.next = ListNode(3)\n",
        "\n",
        "print(\"Original List:\")\n",
        "printLinkedList(head)\n",
        "\n",
        "# Adding one to the number represented by the linked list\n",
        "new_head = addOne(head)\n",
        "\n",
        "print(\"List after adding one:\")\n",
        "printLinkedList(new_head)\n"
      ],
      "metadata": {
        "colab": {
          "base_uri": "https://localhost:8080/"
        },
        "id": "lh9yCp2ozZVK",
        "outputId": "6392f526-da3e-43d6-b68a-b1fefeb59701"
      },
      "execution_count": 14,
      "outputs": [
        {
          "output_type": "stream",
          "name": "stdout",
          "text": [
            "Original List:\n",
            "1 -> 2 -> 3\n",
            "List after adding one:\n",
            "1 -> 2 -> 4\n"
          ]
        }
      ]
    },
    {
      "cell_type": "markdown",
      "source": [
        "#Problem 14: Given a sorted array and a target value, return the index if the target is found. If not, return the index where it would be inserted.\n",
        "\n",
        "Input: nums = [1, 3, 5, 6], target = 5\n",
        "\n",
        "Output: 2"
      ],
      "metadata": {
        "id": "F2Y0beou3SW7"
      }
    },
    {
      "cell_type": "code",
      "source": [
        "def searchInsert(nums, target):\n",
        "    left, right = 0, len(nums) - 1\n",
        "\n",
        "    while left <= right:\n",
        "        mid = (left + right) // 2\n",
        "        if nums[mid] == target:\n",
        "            return mid\n",
        "        elif nums[mid] < target:\n",
        "            left = mid + 1\n",
        "        else:\n",
        "            right = mid - 1\n",
        "\n",
        "    return left  # The position where target should be inserted\n",
        "\n",
        "# Example usage\n",
        "nums = [1, 3, 5, 6]\n",
        "target = 5\n",
        "\n",
        "print(\"Index:\", searchInsert(nums, target))\n"
      ],
      "metadata": {
        "colab": {
          "base_uri": "https://localhost:8080/"
        },
        "id": "C9paHsW6zZYb",
        "outputId": "3c2a3728-11a9-49d8-f6ca-109aa3e59e1b"
      },
      "execution_count": 15,
      "outputs": [
        {
          "output_type": "stream",
          "name": "stdout",
          "text": [
            "Index: 2\n"
          ]
        }
      ]
    },
    {
      "cell_type": "markdown",
      "source": [
        "#Problem 15: Find the minimum element in a rotated sorted array.\n",
        "Input: [4, 5, 6, 7, 0, 1, 2]\n",
        "\n",
        "Output: 0"
      ],
      "metadata": {
        "id": "6iT3ijh43s32"
      }
    },
    {
      "cell_type": "code",
      "source": [
        "def findMin(nums):\n",
        "    left, right = 0, len(nums) - 1\n",
        "\n",
        "    while left < right:\n",
        "        mid = (left + right) // 2\n",
        "        if nums[mid] > nums[right]:\n",
        "            # Minimum element is in the right half\n",
        "            left = mid + 1\n",
        "        else:\n",
        "            # Minimum element is in the left half or at mid\n",
        "            right = mid\n",
        "\n",
        "    return nums[left]\n",
        "\n",
        "# Example usage\n",
        "nums = [4, 5, 6, 7, 0, 1, 2]\n",
        "\n",
        "print(\"Minimum element:\", findMin(nums))\n"
      ],
      "metadata": {
        "colab": {
          "base_uri": "https://localhost:8080/"
        },
        "id": "cE_MVNjpzZbr",
        "outputId": "fca651ed-478f-4c22-cbef-2ac5baec3fae"
      },
      "execution_count": 16,
      "outputs": [
        {
          "output_type": "stream",
          "name": "stdout",
          "text": [
            "Minimum element: 0\n"
          ]
        }
      ]
    },
    {
      "cell_type": "markdown",
      "source": [
        "#Problem 16: Search for a target value in a rotated sorted array.\n",
        "Input: nums = [4, 5, 6, 7, 0, 1, 2], target = 0\n",
        "\n",
        "Output: 4"
      ],
      "metadata": {
        "id": "42gZsXbG38M5"
      }
    },
    {
      "cell_type": "code",
      "source": [
        "def search(nums, target):\n",
        "    left, right = 0, len(nums) - 1\n",
        "\n",
        "    while left <= right:\n",
        "        mid = (left + right) // 2\n",
        "\n",
        "        if nums[mid] == target:\n",
        "            return mid\n",
        "\n",
        "        # Determine which side is sorted\n",
        "        if nums[left] <= nums[mid]:\n",
        "            # Left side is sorted\n",
        "            if nums[left] <= target < nums[mid]:\n",
        "                right = mid - 1\n",
        "            else:\n",
        "                left = mid + 1\n",
        "        else:\n",
        "            # Right side is sorted\n",
        "            if nums[mid] < target <= nums[right]:\n",
        "                left = mid + 1\n",
        "            else:\n",
        "                right = mid - 1\n",
        "\n",
        "    return -1  # Target not found\n",
        "\n",
        "# Example usage\n",
        "nums = [4, 5, 6, 7, 0, 1, 2]\n",
        "target = 0\n",
        "\n",
        "print(\"Index of target:\", search(nums, target))\n"
      ],
      "metadata": {
        "colab": {
          "base_uri": "https://localhost:8080/"
        },
        "id": "iJ42yNSczZer",
        "outputId": "40160e69-1ea3-4dbf-915a-1879382c74c3"
      },
      "execution_count": 17,
      "outputs": [
        {
          "output_type": "stream",
          "name": "stdout",
          "text": [
            "Index of target: 4\n"
          ]
        }
      ]
    },
    {
      "cell_type": "markdown",
      "source": [
        "#Problem 17: Find the peak element in an array. A peak element is greater than its neighbors.\n",
        "Input: nums = [1, 2, 3, 1]\n",
        "\n",
        "Output: 2 (index of peak element)"
      ],
      "metadata": {
        "id": "IcUawGpU4OXL"
      }
    },
    {
      "cell_type": "code",
      "source": [
        "def findPeakElement(nums):\n",
        "    left, right = 0, len(nums) - 1\n",
        "\n",
        "    while left < right:\n",
        "        mid = (left + right) // 2\n",
        "\n",
        "        # Compare mid with its next element\n",
        "        if nums[mid] > nums[mid + 1]:\n",
        "            right = mid\n",
        "        else:\n",
        "            left = mid + 1\n",
        "\n",
        "    # At the end of the loop, left == right, which is the peak\n",
        "    return left\n",
        "\n",
        "# Example usage\n",
        "nums = [1, 2, 3, 1]\n",
        "\n",
        "print(\"Index of peak element:\", findPeakElement(nums))\n"
      ],
      "metadata": {
        "colab": {
          "base_uri": "https://localhost:8080/"
        },
        "id": "eZbBHwKlzZk1",
        "outputId": "b85efd52-31da-4079-f106-624429fa2619"
      },
      "execution_count": 18,
      "outputs": [
        {
          "output_type": "stream",
          "name": "stdout",
          "text": [
            "Index of peak element: 2\n"
          ]
        }
      ]
    },
    {
      "cell_type": "markdown",
      "source": [
        "#Problem 18: Given a m x n matrix where each row and column is sorted in ascending order, count the number of negative numbers.\n",
        "\n",
        "Input: grid = [[4, 3, 2, -1], [3, 2, 1, -1], [1, 1, -1, -2], [-1, -1, -2, -3]]\n",
        "\n",
        "Output: 8"
      ],
      "metadata": {
        "id": "FRxT8IWu4kym"
      }
    },
    {
      "cell_type": "code",
      "source": [
        "def countNegatives(grid):\n",
        "    if not grid or not grid[0]:\n",
        "        return 0\n",
        "\n",
        "    m, n = len(grid), len(grid[0])\n",
        "    count = 0\n",
        "    row, col = 0, n - 1  # Start from the top-right corner\n",
        "\n",
        "    while row < m and col >= 0:\n",
        "        if grid[row][col] < 0:\n",
        "            # All elements to the left in this row are negative\n",
        "            count += (col + 1)\n",
        "            row += 1  # Move down to the next row\n",
        "        else:\n",
        "            col -= 1  # Move left to the previous column\n",
        "\n",
        "    return count\n",
        "\n",
        "# Example usage\n",
        "grid = [[4, 3, 2, -1], [3, 2, 1, -1], [1, 1, -1, -2], [-1, -1, -2, -3]]\n",
        "\n",
        "print(\"Number of negative numbers:\", countNegatives(grid))\n"
      ],
      "metadata": {
        "colab": {
          "base_uri": "https://localhost:8080/"
        },
        "id": "aQOKJNOFzZnk",
        "outputId": "d6ae1c49-95ef-462f-f441-0fd341b9a925"
      },
      "execution_count": 19,
      "outputs": [
        {
          "output_type": "stream",
          "name": "stdout",
          "text": [
            "Number of negative numbers: 16\n"
          ]
        }
      ]
    },
    {
      "cell_type": "markdown",
      "source": [
        "#Problem 19: Given a 2D matrix sorted in ascending order in each row, and the first integer of each row is greater than the last integer of the previous row, determine if a target value is present in the matrix.\n",
        "\n",
        "Input: matrix = [[1, 3, 5, 7], [10, 11, 16, 20], [23, 30, 34, 60]], target = 3\n",
        "\n",
        "Output: True"
      ],
      "metadata": {
        "id": "SrTt9zi65LwZ"
      }
    },
    {
      "cell_type": "code",
      "source": [
        "def searchMatrix(matrix, target):\n",
        "    if not matrix or not matrix[0]:\n",
        "        return False\n",
        "\n",
        "    rows, cols = len(matrix), len(matrix[0])\n",
        "    left, right = 0, rows * cols - 1\n",
        "\n",
        "    while left <= right:\n",
        "        mid = (left + right) // 2\n",
        "        mid_value = matrix[mid // cols][mid % cols]\n",
        "\n",
        "        if mid_value == target:\n",
        "            return True\n",
        "        elif mid_value < target:\n",
        "            left = mid + 1\n",
        "        else:\n",
        "            right = mid - 1\n",
        "\n",
        "    return False\n",
        "\n",
        "matrix = [[1, 3, 5, 7], [10, 11, 16, 20], [23, 30, 34, 60]]\n",
        "target = 3\n",
        "print(searchMatrix(matrix, target))\n"
      ],
      "metadata": {
        "colab": {
          "base_uri": "https://localhost:8080/"
        },
        "id": "WTVGtDubwNYo",
        "outputId": "de0b83d2-036f-4c90-e8eb-d28e3963d097"
      },
      "execution_count": 23,
      "outputs": [
        {
          "output_type": "stream",
          "name": "stdout",
          "text": [
            "True\n"
          ]
        }
      ]
    },
    {
      "cell_type": "markdown",
      "source": [
        "#Problem 20: Find Median in Two Sorted Arrays\n",
        "#Problem: Given two sorted arrays, find the median of the combined sorted array.\n",
        "\n",
        "Input: nums1 = [1, 3], nums2 = [2]\n",
        "\n",
        "Output: 2.0"
      ],
      "metadata": {
        "id": "5NVRjQTT5m8T"
      }
    },
    {
      "cell_type": "code",
      "source": [
        "def findMedianSortedArrays(nums1, nums2):\n",
        "    if len(nums1) > len(nums2):\n",
        "        nums1, nums2 = nums2, nums1\n",
        "\n",
        "    x, y = len(nums1), len(nums2)\n",
        "    low, high = 0, x\n",
        "\n",
        "    while low <= high:\n",
        "        partitionX = (low + high) // 2\n",
        "        partitionY = (x + y + 1) // 2 - partitionX\n",
        "\n",
        "        maxX = float('-inf') if partitionX == 0 else nums1[partitionX - 1]\n",
        "        minX = float('inf') if partitionX == x else nums1[partitionX]\n",
        "\n",
        "        maxY = float('-inf') if partitionY == 0 else nums2[partitionY - 1]\n",
        "        minY = float('inf') if partitionY == y else nums2[partitionY]\n",
        "\n",
        "        if maxX <= minY and maxY <= minX:\n",
        "            if (x + y) % 2 == 0:\n",
        "                return (max(maxX, maxY) + min(minX, minY)) / 2.0\n",
        "            else:\n",
        "                return max(maxX, maxY)\n",
        "        elif maxX > minY:\n",
        "            high = partitionX - 1\n",
        "        else:\n",
        "            low = partitionX + 1\n",
        "\n",
        "    raise ValueError(\"Input arrays are not sorted.\")\n",
        "\n",
        "nums1 = [1, 3]\n",
        "nums2 = [2]\n",
        "print(findMedianSortedArrays(nums1, nums2))\n"
      ],
      "metadata": {
        "colab": {
          "base_uri": "https://localhost:8080/"
        },
        "id": "Ug1g4hgb5eNO",
        "outputId": "eb731640-ebee-4030-bc20-da1683069d6b"
      },
      "execution_count": 24,
      "outputs": [
        {
          "output_type": "stream",
          "name": "stdout",
          "text": [
            "2\n"
          ]
        }
      ]
    },
    {
      "cell_type": "markdown",
      "source": [
        "#Problem 21: Given a sorted character array and a target letter, find the smallest letter in the array that is greater than the target.\n",
        "\n",
        "Input: letters = ['c', 'f', 'j'], target = a\n",
        "\n",
        "Output: 'c'"
      ],
      "metadata": {
        "id": "01hBMa1v59AY"
      }
    },
    {
      "cell_type": "code",
      "source": [
        "def nextGreatestLetter(letters, target):\n",
        "    left, right = 0, len(letters) - 1\n",
        "\n",
        "    while left <= right:\n",
        "        mid = (left + right) // 2\n",
        "        if letters[mid] <= target:\n",
        "            left = mid + 1\n",
        "        else:\n",
        "            right = mid - 1\n",
        "\n",
        "    # If left is beyond the end of the list, wrap around to the start\n",
        "    return letters[left % len(letters)]\n",
        "\n",
        "letters = ['c', 'f', 'j']\n",
        "target = 'a'\n",
        "print(nextGreatestLetter(letters, target))\n"
      ],
      "metadata": {
        "colab": {
          "base_uri": "https://localhost:8080/"
        },
        "id": "9dbKwCOa5_MP",
        "outputId": "fb876e16-11b9-40af-b517-7ad8f82341c7"
      },
      "execution_count": 26,
      "outputs": [
        {
          "output_type": "stream",
          "name": "stdout",
          "text": [
            "c\n"
          ]
        }
      ]
    },
    {
      "cell_type": "markdown",
      "source": [
        "#Problem 22: Given an array with n objects colored red, white, or blue, sort them in-place so that objects of the same color are adjacent, with the colors in the order red, white, and blue.\n",
        "\n",
        "Input: nums = [2, 0, 2, 1, 1, 0]\n",
        "\n",
        "Output: [0, 0, 1, 1, 2, 2]\n"
      ],
      "metadata": {
        "id": "YGeZxksK6w53"
      }
    },
    {
      "cell_type": "code",
      "source": [
        "def sortColors(nums):\n",
        "    low, mid, high = 0, 0, len(nums) - 1\n",
        "\n",
        "    while mid <= high:\n",
        "        if nums[mid] == 0:\n",
        "            nums[low], nums[mid] = nums[mid], nums[low]\n",
        "            low += 1\n",
        "            mid += 1\n",
        "        elif nums[mid] == 1:\n",
        "            mid += 1\n",
        "        else:  # nums[mid] == 2\n",
        "            nums[high], nums[mid] = nums[mid], nums[high]\n",
        "            high -= 1\n",
        "\n",
        "\n",
        "nums = [2, 0, 2, 1, 1, 0]\n",
        "sortColors(nums)\n",
        "print(nums)"
      ],
      "metadata": {
        "colab": {
          "base_uri": "https://localhost:8080/"
        },
        "id": "o47V15335_P0",
        "outputId": "c68a3b35-ddbd-4c4d-ac77-4c746d6c79b4"
      },
      "execution_count": 27,
      "outputs": [
        {
          "output_type": "stream",
          "name": "stdout",
          "text": [
            "[0, 0, 1, 1, 2, 2]\n"
          ]
        }
      ]
    },
    {
      "cell_type": "markdown",
      "source": [
        "#Problem 23: Find the kth largest element in an unsorted array.\n",
        "\n",
        "Input: nums = [3, 2, 1, 5, 6, 4], k = 2\n",
        "\n",
        "Output: 5"
      ],
      "metadata": {
        "id": "C_etGbbb7KIS"
      }
    },
    {
      "cell_type": "code",
      "source": [
        "import random\n",
        "\n",
        "def quickselect(nums, left, right, k):\n",
        "    if left == right:\n",
        "        return nums[left]\n",
        "\n",
        "    pivot_index = random.randint(left, right)\n",
        "    pivot_index = partition(nums, left, right, pivot_index)\n",
        "\n",
        "    if k == pivot_index:\n",
        "        return nums[k]\n",
        "    elif k < pivot_index:\n",
        "        return quickselect(nums, left, pivot_index - 1, k)\n",
        "    else:\n",
        "        return quickselect(nums, pivot_index + 1, right, k)\n",
        "\n",
        "def partition(nums, left, right, pivot_index):\n",
        "    pivot = nums[pivot_index]\n",
        "    # Move pivot to end\n",
        "    nums[pivot_index], nums[right] = nums[right], nums[pivot_index]\n",
        "    store_index = left\n",
        "\n",
        "    for i in range(left, right):\n",
        "        if nums[i] > pivot:  # For kth largest, we use '>'\n",
        "            nums[store_index], nums[i] = nums[i], nums[store_index]\n",
        "            store_index += 1\n",
        "\n",
        "    # Move pivot to its final place\n",
        "    nums[right], nums[store_index] = nums[store_index], nums[right]\n",
        "    return store_index\n",
        "\n",
        "def findKthLargest(nums, k):\n",
        "    return quickselect(nums, 0, len(nums) - 1, k - 1)\n",
        "\n",
        "\n",
        "nums = [3, 2, 1, 5, 6, 4]\n",
        "k = 2\n",
        "print(findKthLargest(nums, k))\n"
      ],
      "metadata": {
        "colab": {
          "base_uri": "https://localhost:8080/"
        },
        "id": "xA_zL_Bd5_TH",
        "outputId": "a2a12172-a3d6-4bbe-a76b-a57349c0777f"
      },
      "execution_count": 28,
      "outputs": [
        {
          "output_type": "stream",
          "name": "stdout",
          "text": [
            "5\n"
          ]
        }
      ]
    },
    {
      "cell_type": "markdown",
      "source": [
        "#Problem 24: Given an unsorted array, reorder it in-place such that nums[0] <= nums[1] >= nums[2] <= nums[3]...\n",
        "\n",
        "Input: nums = [3, 5, 2, 1, 6, 4]\n",
        "\n",
        "Output: [3, 5, 1, 6, 2, 4]"
      ],
      "metadata": {
        "id": "Yb4wet0i7efc"
      }
    },
    {
      "cell_type": "code",
      "source": [
        "def wiggleSort(nums):\n",
        "    # Iterate through the array\n",
        "    for i in range(len(nums) - 1):\n",
        "        if (i % 2 == 0 and nums[i] > nums[i + 1]) or (i % 2 == 1 and nums[i] < nums[i + 1]):\n",
        "            # Swap elements to maintain the wiggle property\n",
        "            nums[i], nums[i + 1] = nums[i + 1], nums[i]\n",
        "\n",
        "\n",
        "nums = [3, 5, 2, 1, 6, 4]\n",
        "wiggleSort(nums)\n",
        "print(nums)\n"
      ],
      "metadata": {
        "colab": {
          "base_uri": "https://localhost:8080/"
        },
        "id": "dr5gM5zZ5_WK",
        "outputId": "7a139cae-d43f-4baf-d136-c0260c68a3ff"
      },
      "execution_count": 29,
      "outputs": [
        {
          "output_type": "stream",
          "name": "stdout",
          "text": [
            "[3, 5, 1, 6, 2, 4]\n"
          ]
        }
      ]
    },
    {
      "cell_type": "markdown",
      "source": [
        "#Problem 25: Given an array of integers, calculate the sum of all its elements.\n",
        "\n",
        "Input: [1, 2, 3, 4, 5]\n",
        "\n",
        "Output: 15"
      ],
      "metadata": {
        "id": "Arj2GTRF73DC"
      }
    },
    {
      "cell_type": "code",
      "source": [
        "def calculate_sum(nums):\n",
        "    total = 0\n",
        "    for num in nums:\n",
        "        total += num\n",
        "    return total\n",
        "\n",
        "nums = [1, 2, 3, 4, 5]\n",
        "print(calculate_sum(nums))\n"
      ],
      "metadata": {
        "colab": {
          "base_uri": "https://localhost:8080/"
        },
        "id": "WNs6Mnzn5_ZW",
        "outputId": "3dfc903e-06a5-4ca9-b9de-a7add290004d"
      },
      "execution_count": 30,
      "outputs": [
        {
          "output_type": "stream",
          "name": "stdout",
          "text": [
            "15\n"
          ]
        }
      ]
    },
    {
      "cell_type": "markdown",
      "source": [
        "#Problem 26: Find the maximum element in an array of integers.\n",
        "Input: [3, 7, 2, 9, 4, 1]\n",
        "\n",
        "Output: 9"
      ],
      "metadata": {
        "id": "vAsw4HZV8KcR"
      }
    },
    {
      "cell_type": "code",
      "source": [
        "def find_maximum(nums):\n",
        "    if not nums:\n",
        "        raise ValueError(\"Array is empty\")\n",
        "\n",
        "    max_value = nums[0]\n",
        "    for num in nums:\n",
        "        if num > max_value:\n",
        "            max_value = num\n",
        "    return max_value\n",
        "\n",
        "\n",
        "nums = [3, 7, 2, 9, 4, 1]\n",
        "print(find_maximum(nums))"
      ],
      "metadata": {
        "colab": {
          "base_uri": "https://localhost:8080/"
        },
        "id": "4VmQvl1k5_cY",
        "outputId": "565833bd-789c-4748-bb00-200d11491f0d"
      },
      "execution_count": 31,
      "outputs": [
        {
          "output_type": "stream",
          "name": "stdout",
          "text": [
            "9\n"
          ]
        }
      ]
    },
    {
      "cell_type": "markdown",
      "source": [
        "#Problem 27: Implement linear search to find the index of a target element in an array.\n",
        "Input: [5, 3, 8, 2, 7, 4], target = 8\n",
        "\n",
        "Output: 2"
      ],
      "metadata": {
        "id": "EbaKx-Z78bFg"
      }
    },
    {
      "cell_type": "code",
      "source": [
        "def linear_search(nums, target):\n",
        "    for index, value in enumerate(nums):\n",
        "        if value == target:\n",
        "            return index\n",
        "    return -1  # Return -1 if the target is not found\n",
        "\n",
        "\n",
        "nums = [5, 3, 8, 2, 7, 4]\n",
        "target = 8\n",
        "print(linear_search(nums, target))\n"
      ],
      "metadata": {
        "colab": {
          "base_uri": "https://localhost:8080/"
        },
        "id": "VAI07FQh5_gV",
        "outputId": "10c40c78-23ac-4467-aae1-0946e2dd3692"
      },
      "execution_count": 33,
      "outputs": [
        {
          "output_type": "stream",
          "name": "stdout",
          "text": [
            "2\n"
          ]
        }
      ]
    },
    {
      "cell_type": "markdown",
      "source": [
        "#Problem 28 Calculate the factorial of a given number.\n",
        "Input: 5\n",
        "\n",
        "Output: 120 (as 5! = 5 * 4 * 3 * 2 * 1 = 120)"
      ],
      "metadata": {
        "id": "2gc22vw48wr5"
      }
    },
    {
      "cell_type": "code",
      "source": [
        "def factorial_iterative(n):\n",
        "    result = 1\n",
        "    for i in range(2, n + 1):\n",
        "        result *= i\n",
        "    return result\n",
        "\n",
        "n = 5\n",
        "print(factorial_iterative(n))\n"
      ],
      "metadata": {
        "colab": {
          "base_uri": "https://localhost:8080/"
        },
        "id": "GmylBbaM5_kA",
        "outputId": "c1ea0a4d-7f45-4689-c7e3-74b5fb75e77a"
      },
      "execution_count": 34,
      "outputs": [
        {
          "output_type": "stream",
          "name": "stdout",
          "text": [
            "120\n"
          ]
        }
      ]
    },
    {
      "cell_type": "markdown",
      "source": [
        "#Problem 29: Check if a given number is a prime number.\n",
        "Input: 7\n",
        "\n",
        "Output: True"
      ],
      "metadata": {
        "id": "obXGROvf9Ago"
      }
    },
    {
      "cell_type": "code",
      "source": [
        "import math\n",
        "\n",
        "def is_prime(n):\n",
        "    if n <= 1:\n",
        "        return False\n",
        "    if n <= 3:\n",
        "        return True\n",
        "    if n % 2 == 0 or n % 3 == 0:\n",
        "        return False\n",
        "    i = 5\n",
        "    while i * i <= n:\n",
        "        if n % i == 0 or n % (i + 2) == 0:\n",
        "            return False\n",
        "        i += 6\n",
        "    return True\n",
        "\n",
        "# Example usage\n",
        "n = 7\n",
        "print(is_prime(n))  # Output: True\n"
      ],
      "metadata": {
        "colab": {
          "base_uri": "https://localhost:8080/"
        },
        "id": "ilAKgJH05_nR",
        "outputId": "0ba25194-339c-49ff-cb3a-6aa78a1cee41"
      },
      "execution_count": 35,
      "outputs": [
        {
          "output_type": "stream",
          "name": "stdout",
          "text": [
            "True\n"
          ]
        }
      ]
    },
    {
      "cell_type": "markdown",
      "source": [
        "#Problem 30: Generate the Fibonacci series up to a given number n.\n",
        "Input: 8\n",
        "\n",
        "Output: [0, 1, 1, 2, 3, 5, 8, 13]"
      ],
      "metadata": {
        "id": "WPUrR8ym9TWi"
      }
    },
    {
      "cell_type": "code",
      "source": [
        "def fibonacci_up_to_n(n):\n",
        "    if n < 0:\n",
        "        return []\n",
        "\n",
        "    series = []\n",
        "    a, b = 0, 1\n",
        "    while a <= n:\n",
        "        series.append(a)\n",
        "        a, b = b, a + b\n",
        "    return series\n",
        "\n",
        "\n",
        "n = 8\n",
        "print(fibonacci_up_to_n(n))\n"
      ],
      "metadata": {
        "colab": {
          "base_uri": "https://localhost:8080/"
        },
        "id": "nzH5IVdP5_pg",
        "outputId": "e19653ce-207f-42d2-dd2f-74dd707c61c6"
      },
      "execution_count": 36,
      "outputs": [
        {
          "output_type": "stream",
          "name": "stdout",
          "text": [
            "[0, 1, 1, 2, 3, 5, 8]\n"
          ]
        }
      ]
    },
    {
      "cell_type": "markdown",
      "source": [
        "#Problem 31: Calculate the power of a number using recursion.\n",
        "Input: base = 3, exponent = 4\n",
        "\n",
        "Output: 81 (as 3^4 = 3 * 3 * 3 * 3 = 81)"
      ],
      "metadata": {
        "id": "xcQCDSuJ9mAd"
      }
    },
    {
      "cell_type": "code",
      "source": [
        "def power(base, exponent):\n",
        "    # Base case: exponent is 0\n",
        "    if exponent == 0:\n",
        "        return 1\n",
        "    # Recursive case\n",
        "    return base * power(base, exponent - 1)\n",
        "\n",
        "base = 3\n",
        "exponent = 4\n",
        "print(power(base, exponent))\n"
      ],
      "metadata": {
        "colab": {
          "base_uri": "https://localhost:8080/"
        },
        "id": "6t4ra0nM5_sp",
        "outputId": "bfd77c1d-1272-4425-8f9a-741fc40db06d"
      },
      "execution_count": 37,
      "outputs": [
        {
          "output_type": "stream",
          "name": "stdout",
          "text": [
            "81\n"
          ]
        }
      ]
    },
    {
      "cell_type": "markdown",
      "source": [
        "#Problem 32: Reverse a given string.\n",
        "Input: \"hello\"\n",
        "\n",
        "Output: \"olleh\""
      ],
      "metadata": {
        "id": "_z7RmwHz95V3"
      }
    },
    {
      "cell_type": "code",
      "source": [
        "def reverse_string(s):\n",
        "    reversed_str = ''\n",
        "    for char in s:\n",
        "        reversed_str = char + reversed_str\n",
        "    return reversed_str\n",
        "\n",
        "s = \"hello\"\n",
        "print(reverse_string(s))"
      ],
      "metadata": {
        "colab": {
          "base_uri": "https://localhost:8080/"
        },
        "id": "aLCVYn-u56i2",
        "outputId": "01ddc935-70db-4a9d-de72-5b943c38d13a"
      },
      "execution_count": 38,
      "outputs": [
        {
          "output_type": "stream",
          "name": "stdout",
          "text": [
            "olleh\n"
          ]
        }
      ]
    },
    {
      "cell_type": "code",
      "source": [],
      "metadata": {
        "id": "5lSpvjZt-NmH"
      },
      "execution_count": null,
      "outputs": []
    }
  ]
}